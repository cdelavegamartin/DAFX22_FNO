{
 "cells": [
  {
   "cell_type": "markdown",
   "metadata": {
    "id": "7mOpoZ_m8muk"
   },
   "source": []
  },
  {
   "cell_type": "markdown",
   "metadata": {
    "id": "8rYTlCKzEO2_"
   },
   "source": [
    "## Basic Wave Equation Solver"
   ]
  },
  {
   "cell_type": "code",
   "execution_count": 2,
   "metadata": {
    "id": "zoWZoPpOEO2_"
   },
   "outputs": [],
   "source": [
    "import numpy as np\n",
    "import torch\n",
    "\n",
    "class WaveSolver():\n",
    "    def __init__(self):\n",
    "        super(WaveSolver, self).__init__()\n",
    "\n",
    "        # Basic Parameter Set\n",
    "        self.f = 4410      # sampling frequency\n",
    "        self.T = 1/self.f    # sampling time\n",
    "        self.dur = 0.1       # simulation duration\n",
    "\n",
    "        self.numT = round(self.dur / self.T)\n",
    "        self.t = np.linspace(0, self.dur, num=self.numT, endpoint=True ) # time vector\n",
    "\n",
    "        self.numXs = 256      # spatial grid points\n",
    "        self.l = 2.5          # length of the pipe\n",
    "        self.xs = np.linspace(0.0, self.l, num=self.numXs, endpoint=True) # space vector\n",
    "\n",
    "        self.c0 = 30       # propagation speed\n",
    "\n",
    "    def solve(self):\n",
    "        # FTM Stuff\n",
    "        Mu = 250       # number of eigenvalues\n",
    "        mu = np.arange(1, Mu+1) # 1:Mu;\n",
    "        c0 = self.c0\n",
    "        l = self.l\n",
    "        numT = self.numT\n",
    "        numXs = self.numXs\n",
    "\n",
    "        test = 1j*c0*mu*np.pi/l\n",
    "\n",
    "        gmu = np.concatenate((mu*np.pi/l, mu*np.pi/l))\n",
    "        smu = np.concatenate((1j*c0*mu*np.pi/l, -1j*c0*mu*np.pi/l))\n",
    "\n",
    "        K1 = lambda x: 1j*np.sin(gmu*x) # @(x) 1j*sin(gmu*x);\n",
    "        K2 = lambda x: 1j*smu*np.sin(gmu*x)\n",
    "        Ka1 = lambda x: 1j/c0**2*np.conj(smu)*np.sin(gmu*x)\n",
    "        Ka2 = lambda x: 1j*np.sin(gmu*x)\n",
    "\n",
    "        nmu = 1./(l/2*(c0**2*smu + np.conj(smu)))\n",
    "\n",
    "        A = np.diag(np.exp(smu*self.T))\n",
    "\n",
    "        #xeVec = np.array([0.1*self.l, 0.2*self.l, 0.3*self.l]) # vector of excitation positions (can be extended)\n",
    "        xe = 0.1*l\n",
    "\n",
    "        # Excitation for the wave equation is a simple delta-impulse at position xe\n",
    "        # Possible extensions:\n",
    "        # - excitation by a hamming window to have a more smooth excitation\n",
    "        # - combination with a temporal excitation shape\n",
    "        yi = Ka2(xe)*self.T # set initial values for states\n",
    "\n",
    "        # vectors\n",
    "        ybar = np.zeros((2*Mu, numT),dtype=complex)\n",
    "\n",
    "        # set initial states\n",
    "        ybar[:,0] = yi\n",
    "\n",
    "        test = range(1,numT)\n",
    "\n",
    "        # processing to create time progression of individual states\n",
    "        for k in range(1,numT) :\n",
    "            ybar[:,k] = A@ybar[:,k-1]\n",
    "\n",
    "        # create output signal over time at a single observation position\n",
    "        # (maybe this part is not necessary, therefore it is commented)\n",
    "        # xo = 0.7*l\n",
    "        # c1 = K1(xo)\n",
    "        # y = c1@ybar # recover deflection from states (inverse transformation)\n",
    "        # y = np.real(y)\n",
    "\n",
    "        # create spatial vectors.\n",
    "        # Result y_x: spatial distribution of the deflection y on the pipe at all\n",
    "        # temporal sampling points\n",
    "        K1_x = np.zeros((numXs, 2*Mu),dtype=complex)\n",
    "        y_x = np.zeros((numXs, numT),dtype=complex)\n",
    "\n",
    "        for xi in range(numXs) : #1:length(xs)\n",
    "            K1_x[xi,:] = K1(self.xs[xi])/nmu\n",
    "            y_x[xi,:] = K1_x[xi,:]@ybar\n",
    "\n",
    "        # take the real part because there might be a small imaginary part\n",
    "        y_x = np.real(y_x)\n",
    "        y_x = y_x / 10**6 # scale the output to reasonable values around 1\n",
    "\n",
    "        return y_x\n"
   ]
  },
  {
   "cell_type": "markdown",
   "metadata": {
    "id": "cFmbHcFFCPlM"
   },
   "source": [
    "Check output"
   ]
  },
  {
   "cell_type": "code",
   "execution_count": 140,
   "metadata": {
    "id": "7fze7k5RAgBf"
   },
   "outputs": [
    {
     "name": "stdout",
     "output_type": "stream",
     "text": [
      " loss:nan"
     ]
    },
    {
     "data": {
      "text/plain": [
       "[<matplotlib.lines.Line2D at 0x7fddda6aba10>]"
      ]
     },
     "execution_count": 140,
     "metadata": {},
     "output_type": "execute_result"
    },
    {
     "data": {
      "image/png": "[encoded data removed]",
      "text/plain": [
       "<Figure size 432x288 with 1 Axes>"
      ]
     },
     "metadata": {
      "needs_background": "light"
     },
     "output_type": "display_data"
    }
   ],
   "source": [
    "import matplotlib.pyplot as plt\n",
    "\n",
    "grid_start = 0\n",
    "grid_end = 1\n",
    "test_grid_size = 64\n",
    "field_val = 2\n",
    "\n",
    "model_input = torch.zeros(1,grid_size,2)\n",
    "model_output = torch.zeros(1,grid_size,1)\n",
    "\n",
    "testNum = 30\n",
    "model_input[:,:,:] = training_input[testNum,:,:]\n",
    "model_output[:,:,:] = training_output[testNum,:,:]\n",
    "#model_input = model_input.to('cuda')\n",
    "input_field =  model_input[0,:,0] # training_input[10,:,0]\n",
    "\n",
    "model_result = model(model_input)\n",
    "\n",
    "loss = torch.nn.functional.mse_loss(model_result, model_output)\n",
    "print(\"\\r\",'loss:' + str(loss.detach().cpu().numpy()), end = \"\")\n",
    "\n",
    "plt.figure()\n",
    "plt.plot(input_field.data)\n",
    "plt.plot(model_output[0,:,0].data)\n",
    "plt.plot(model_result.detach().cpu().flatten().numpy())\n"
   ]
  },
  {
   "cell_type": "code",
   "execution_count": null,
   "metadata": {},
   "outputs": [],
   "source": []
  },
  {
   "cell_type": "code",
   "execution_count": null,
   "metadata": {
    "id": "-Wdjp134zKFM"
   },
   "outputs": [],
   "source": []
  },
  {
   "cell_type": "code",
   "execution_count": null,
   "metadata": {},
   "outputs": [],
   "source": []
  }
 ],
 "metadata": {
  "accelerator": "GPU",
  "colab": {
   "collapsed_sections": [],
   "name": "NeuralOperators-Poisson_Sebastian.ipynb",
   "private_outputs": true,
   "provenance": [
    {
     "file_id": "1iz-ZR8dtWNh7MqrtQCvzEmtlmfDot2Vq",
     "timestamp": 1643662211045
    }
   ]
  },
  "kernelspec": {
   "display_name": "Python 3 (ipykernel)",
   "language": "python",
   "name": "python3"
  },
  "language_info": {
   "codemirror_mode": {
    "name": "ipython",
    "version": 3
   },
   "file_extension": ".py",
   "mimetype": "text/x-python",
   "name": "python",
   "nbconvert_exporter": "python",
   "pygments_lexer": "ipython3",
   "version": "3.7.11"
  }
 },
 "nbformat": 4,
 "nbformat_minor": 0
}