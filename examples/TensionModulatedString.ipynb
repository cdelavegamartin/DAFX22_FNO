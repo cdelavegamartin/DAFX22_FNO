{
 "cells": [
  {
   "cell_type": "markdown",
   "metadata": {
    "id": "sV0gtUy4EO29"
   },
   "source": [
    "# Tension Modulated String\n",
    "\n",
    "[1] Trautmann, Rabenstein, Sound Synthesis with Tension Modulated\n",
    "Nonlinearities Based on Functional Transformations\n",
    "AMTA 2000, Jamaica\n",
    "\n",
    "R. Rabenstein, 27.03.2022\n",
    "\n",
    "Python Translation: S. Schlecht"
   ]
  },
  {
   "cell_type": "code",
   "execution_count": 11,
   "metadata": {},
   "outputs": [
    {
     "ename": "ValueError",
     "evalue": "all the input arrays must have same number of dimensions, but the array at index 0 has 1 dimension(s) and the array at index 1 has 2 dimension(s)",
     "output_type": "error",
     "traceback": [
      "\u001b[0;31m---------------------------------------------------------------------------\u001b[0m",
      "\u001b[0;31mValueError\u001b[0m                                Traceback (most recent call last)",
      "\u001b[0;32m/var/folders/ch/k00bjcdj1ts5_ghvrgm8_r_h0000gp/T/ipykernel_63586/82632926.py\u001b[0m in \u001b[0;36m<module>\u001b[0;34m\u001b[0m\n\u001b[1;32m    113\u001b[0m \u001b[0;34m\u001b[0m\u001b[0m\n\u001b[1;32m    114\u001b[0m \u001b[0mtensionString\u001b[0m \u001b[0;34m=\u001b[0m \u001b[0mTensionModulatedString\u001b[0m\u001b[0;34m(\u001b[0m\u001b[0;34m)\u001b[0m\u001b[0;34m\u001b[0m\u001b[0;34m\u001b[0m\u001b[0m\n\u001b[0;32m--> 115\u001b[0;31m \u001b[0my1\u001b[0m \u001b[0;34m=\u001b[0m \u001b[0mtensionString\u001b[0m\u001b[0;34m.\u001b[0m\u001b[0msolve\u001b[0m\u001b[0;34m(\u001b[0m\u001b[0;36m1\u001b[0m\u001b[0;34m)\u001b[0m\u001b[0;34m\u001b[0m\u001b[0;34m\u001b[0m\u001b[0m\n\u001b[0m",
      "\u001b[0;32m/var/folders/ch/k00bjcdj1ts5_ghvrgm8_r_h0000gp/T/ipykernel_63586/82632926.py\u001b[0m in \u001b[0;36msolve\u001b[0;34m(self, fe_x)\u001b[0m\n\u001b[1;32m    101\u001b[0m         \u001b[0;31m#[t1,wb1] = ode45(@(t1,wb1) tensmodstr(t1,wb1,P),tspan,wb0) # solve ode\u001b[0m\u001b[0;34m\u001b[0m\u001b[0;34m\u001b[0m\u001b[0;34m\u001b[0m\u001b[0m\n\u001b[1;32m    102\u001b[0m         \u001b[0mvdp1\u001b[0m \u001b[0;34m=\u001b[0m \u001b[0;32mlambda\u001b[0m \u001b[0mt1\u001b[0m\u001b[0;34m,\u001b[0m\u001b[0mwb1\u001b[0m\u001b[0;34m:\u001b[0m \u001b[0mself\u001b[0m\u001b[0;34m.\u001b[0m\u001b[0mtensmodstr\u001b[0m\u001b[0;34m(\u001b[0m\u001b[0mt1\u001b[0m\u001b[0;34m,\u001b[0m\u001b[0mwb1\u001b[0m\u001b[0;34m)\u001b[0m\u001b[0;34m\u001b[0m\u001b[0;34m\u001b[0m\u001b[0m\n\u001b[0;32m--> 103\u001b[0;31m         \u001b[0msol\u001b[0m \u001b[0;34m=\u001b[0m \u001b[0msolve_ivp\u001b[0m \u001b[0;34m(\u001b[0m\u001b[0mvdp1\u001b[0m\u001b[0;34m,\u001b[0m \u001b[0mtspan\u001b[0m\u001b[0;34m,\u001b[0m \u001b[0mwb0\u001b[0m\u001b[0;34m)\u001b[0m\u001b[0;34m\u001b[0m\u001b[0;34m\u001b[0m\u001b[0m\n\u001b[0m\u001b[1;32m    104\u001b[0m \u001b[0;34m\u001b[0m\u001b[0m\n\u001b[1;32m    105\u001b[0m         \u001b[0myb1\u001b[0m \u001b[0;34m=\u001b[0m \u001b[0mwb1\u001b[0m\u001b[0;34m[\u001b[0m\u001b[0;34m:\u001b[0m\u001b[0;34m,\u001b[0m\u001b[0;34m:\u001b[0m\u001b[0mself\u001b[0m\u001b[0;34m.\u001b[0m\u001b[0mM\u001b[0m\u001b[0;34m]\u001b[0m   \u001b[0;31m# solution for the FS-transform of the deflection\u001b[0m\u001b[0;34m\u001b[0m\u001b[0;34m\u001b[0m\u001b[0m\n",
      "\u001b[0;32m~/opt/anaconda3/envs/neuralOperator37/lib/python3.7/site-packages/scipy/integrate/_ivp/ivp.py\u001b[0m in \u001b[0;36msolve_ivp\u001b[0;34m(fun, t_span, y0, method, t_eval, dense_output, events, vectorized, args, **options)\u001b[0m\n\u001b[1;32m    540\u001b[0m         \u001b[0mmethod\u001b[0m \u001b[0;34m=\u001b[0m \u001b[0mMETHODS\u001b[0m\u001b[0;34m[\u001b[0m\u001b[0mmethod\u001b[0m\u001b[0;34m]\u001b[0m\u001b[0;34m\u001b[0m\u001b[0;34m\u001b[0m\u001b[0m\n\u001b[1;32m    541\u001b[0m \u001b[0;34m\u001b[0m\u001b[0m\n\u001b[0;32m--> 542\u001b[0;31m     \u001b[0msolver\u001b[0m \u001b[0;34m=\u001b[0m \u001b[0mmethod\u001b[0m\u001b[0;34m(\u001b[0m\u001b[0mfun\u001b[0m\u001b[0;34m,\u001b[0m \u001b[0mt0\u001b[0m\u001b[0;34m,\u001b[0m \u001b[0my0\u001b[0m\u001b[0;34m,\u001b[0m \u001b[0mtf\u001b[0m\u001b[0;34m,\u001b[0m \u001b[0mvectorized\u001b[0m\u001b[0;34m=\u001b[0m\u001b[0mvectorized\u001b[0m\u001b[0;34m,\u001b[0m \u001b[0;34m**\u001b[0m\u001b[0moptions\u001b[0m\u001b[0;34m)\u001b[0m\u001b[0;34m\u001b[0m\u001b[0;34m\u001b[0m\u001b[0m\n\u001b[0m\u001b[1;32m    543\u001b[0m \u001b[0;34m\u001b[0m\u001b[0m\n\u001b[1;32m    544\u001b[0m     \u001b[0;32mif\u001b[0m \u001b[0mt_eval\u001b[0m \u001b[0;32mis\u001b[0m \u001b[0;32mNone\u001b[0m\u001b[0;34m:\u001b[0m\u001b[0;34m\u001b[0m\u001b[0;34m\u001b[0m\u001b[0m\n",
      "\u001b[0;32m~/opt/anaconda3/envs/neuralOperator37/lib/python3.7/site-packages/scipy/integrate/_ivp/rk.py\u001b[0m in \u001b[0;36m__init__\u001b[0;34m(self, fun, t0, y0, t_bound, max_step, rtol, atol, vectorized, first_step, **extraneous)\u001b[0m\n\u001b[1;32m     92\u001b[0m         \u001b[0mself\u001b[0m\u001b[0;34m.\u001b[0m\u001b[0mmax_step\u001b[0m \u001b[0;34m=\u001b[0m \u001b[0mvalidate_max_step\u001b[0m\u001b[0;34m(\u001b[0m\u001b[0mmax_step\u001b[0m\u001b[0;34m)\u001b[0m\u001b[0;34m\u001b[0m\u001b[0;34m\u001b[0m\u001b[0m\n\u001b[1;32m     93\u001b[0m         \u001b[0mself\u001b[0m\u001b[0;34m.\u001b[0m\u001b[0mrtol\u001b[0m\u001b[0;34m,\u001b[0m \u001b[0mself\u001b[0m\u001b[0;34m.\u001b[0m\u001b[0matol\u001b[0m \u001b[0;34m=\u001b[0m \u001b[0mvalidate_tol\u001b[0m\u001b[0;34m(\u001b[0m\u001b[0mrtol\u001b[0m\u001b[0;34m,\u001b[0m \u001b[0matol\u001b[0m\u001b[0;34m,\u001b[0m \u001b[0mself\u001b[0m\u001b[0;34m.\u001b[0m\u001b[0mn\u001b[0m\u001b[0;34m)\u001b[0m\u001b[0;34m\u001b[0m\u001b[0;34m\u001b[0m\u001b[0m\n\u001b[0;32m---> 94\u001b[0;31m         \u001b[0mself\u001b[0m\u001b[0;34m.\u001b[0m\u001b[0mf\u001b[0m \u001b[0;34m=\u001b[0m \u001b[0mself\u001b[0m\u001b[0;34m.\u001b[0m\u001b[0mfun\u001b[0m\u001b[0;34m(\u001b[0m\u001b[0mself\u001b[0m\u001b[0;34m.\u001b[0m\u001b[0mt\u001b[0m\u001b[0;34m,\u001b[0m \u001b[0mself\u001b[0m\u001b[0;34m.\u001b[0m\u001b[0my\u001b[0m\u001b[0;34m)\u001b[0m\u001b[0;34m\u001b[0m\u001b[0;34m\u001b[0m\u001b[0m\n\u001b[0m\u001b[1;32m     95\u001b[0m         \u001b[0;32mif\u001b[0m \u001b[0mfirst_step\u001b[0m \u001b[0;32mis\u001b[0m \u001b[0;32mNone\u001b[0m\u001b[0;34m:\u001b[0m\u001b[0;34m\u001b[0m\u001b[0;34m\u001b[0m\u001b[0m\n\u001b[1;32m     96\u001b[0m             self.h_abs = select_initial_step(\n",
      "\u001b[0;32m~/opt/anaconda3/envs/neuralOperator37/lib/python3.7/site-packages/scipy/integrate/_ivp/base.py\u001b[0m in \u001b[0;36mfun\u001b[0;34m(t, y)\u001b[0m\n\u001b[1;32m    136\u001b[0m         \u001b[0;32mdef\u001b[0m \u001b[0mfun\u001b[0m\u001b[0;34m(\u001b[0m\u001b[0mt\u001b[0m\u001b[0;34m,\u001b[0m \u001b[0my\u001b[0m\u001b[0;34m)\u001b[0m\u001b[0;34m:\u001b[0m\u001b[0;34m\u001b[0m\u001b[0;34m\u001b[0m\u001b[0m\n\u001b[1;32m    137\u001b[0m             \u001b[0mself\u001b[0m\u001b[0;34m.\u001b[0m\u001b[0mnfev\u001b[0m \u001b[0;34m+=\u001b[0m \u001b[0;36m1\u001b[0m\u001b[0;34m\u001b[0m\u001b[0;34m\u001b[0m\u001b[0m\n\u001b[0;32m--> 138\u001b[0;31m             \u001b[0;32mreturn\u001b[0m \u001b[0mself\u001b[0m\u001b[0;34m.\u001b[0m\u001b[0mfun_single\u001b[0m\u001b[0;34m(\u001b[0m\u001b[0mt\u001b[0m\u001b[0;34m,\u001b[0m \u001b[0my\u001b[0m\u001b[0;34m)\u001b[0m\u001b[0;34m\u001b[0m\u001b[0;34m\u001b[0m\u001b[0m\n\u001b[0m\u001b[1;32m    139\u001b[0m \u001b[0;34m\u001b[0m\u001b[0m\n\u001b[1;32m    140\u001b[0m         \u001b[0mself\u001b[0m\u001b[0;34m.\u001b[0m\u001b[0mfun\u001b[0m \u001b[0;34m=\u001b[0m \u001b[0mfun\u001b[0m\u001b[0;34m\u001b[0m\u001b[0;34m\u001b[0m\u001b[0m\n",
      "\u001b[0;32m~/opt/anaconda3/envs/neuralOperator37/lib/python3.7/site-packages/scipy/integrate/_ivp/base.py\u001b[0m in \u001b[0;36mfun_wrapped\u001b[0;34m(t, y)\u001b[0m\n\u001b[1;32m     18\u001b[0m \u001b[0;34m\u001b[0m\u001b[0m\n\u001b[1;32m     19\u001b[0m     \u001b[0;32mdef\u001b[0m \u001b[0mfun_wrapped\u001b[0m\u001b[0;34m(\u001b[0m\u001b[0mt\u001b[0m\u001b[0;34m,\u001b[0m \u001b[0my\u001b[0m\u001b[0;34m)\u001b[0m\u001b[0;34m:\u001b[0m\u001b[0;34m\u001b[0m\u001b[0;34m\u001b[0m\u001b[0m\n\u001b[0;32m---> 20\u001b[0;31m         \u001b[0;32mreturn\u001b[0m \u001b[0mnp\u001b[0m\u001b[0;34m.\u001b[0m\u001b[0masarray\u001b[0m\u001b[0;34m(\u001b[0m\u001b[0mfun\u001b[0m\u001b[0;34m(\u001b[0m\u001b[0mt\u001b[0m\u001b[0;34m,\u001b[0m \u001b[0my\u001b[0m\u001b[0;34m)\u001b[0m\u001b[0;34m,\u001b[0m \u001b[0mdtype\u001b[0m\u001b[0;34m=\u001b[0m\u001b[0mdtype\u001b[0m\u001b[0;34m)\u001b[0m\u001b[0;34m\u001b[0m\u001b[0;34m\u001b[0m\u001b[0m\n\u001b[0m\u001b[1;32m     21\u001b[0m \u001b[0;34m\u001b[0m\u001b[0m\n\u001b[1;32m     22\u001b[0m     \u001b[0;32mreturn\u001b[0m \u001b[0mfun_wrapped\u001b[0m\u001b[0;34m,\u001b[0m \u001b[0my0\u001b[0m\u001b[0;34m\u001b[0m\u001b[0;34m\u001b[0m\u001b[0m\n",
      "\u001b[0;32m/var/folders/ch/k00bjcdj1ts5_ghvrgm8_r_h0000gp/T/ipykernel_63586/82632926.py\u001b[0m in \u001b[0;36m<lambda>\u001b[0;34m(t1, wb1)\u001b[0m\n\u001b[1;32m    100\u001b[0m \u001b[0;34m\u001b[0m\u001b[0m\n\u001b[1;32m    101\u001b[0m         \u001b[0;31m#[t1,wb1] = ode45(@(t1,wb1) tensmodstr(t1,wb1,P),tspan,wb0) # solve ode\u001b[0m\u001b[0;34m\u001b[0m\u001b[0;34m\u001b[0m\u001b[0;34m\u001b[0m\u001b[0m\n\u001b[0;32m--> 102\u001b[0;31m         \u001b[0mvdp1\u001b[0m \u001b[0;34m=\u001b[0m \u001b[0;32mlambda\u001b[0m \u001b[0mt1\u001b[0m\u001b[0;34m,\u001b[0m\u001b[0mwb1\u001b[0m\u001b[0;34m:\u001b[0m \u001b[0mself\u001b[0m\u001b[0;34m.\u001b[0m\u001b[0mtensmodstr\u001b[0m\u001b[0;34m(\u001b[0m\u001b[0mt1\u001b[0m\u001b[0;34m,\u001b[0m\u001b[0mwb1\u001b[0m\u001b[0;34m)\u001b[0m\u001b[0;34m\u001b[0m\u001b[0;34m\u001b[0m\u001b[0m\n\u001b[0m\u001b[1;32m    103\u001b[0m         \u001b[0msol\u001b[0m \u001b[0;34m=\u001b[0m \u001b[0msolve_ivp\u001b[0m \u001b[0;34m(\u001b[0m\u001b[0mvdp1\u001b[0m\u001b[0;34m,\u001b[0m \u001b[0mtspan\u001b[0m\u001b[0;34m,\u001b[0m \u001b[0mwb0\u001b[0m\u001b[0;34m)\u001b[0m\u001b[0;34m\u001b[0m\u001b[0;34m\u001b[0m\u001b[0m\n\u001b[1;32m    104\u001b[0m \u001b[0;34m\u001b[0m\u001b[0m\n",
      "\u001b[0;32m/var/folders/ch/k00bjcdj1ts5_ghvrgm8_r_h0000gp/T/ipykernel_63586/82632926.py\u001b[0m in \u001b[0;36mtensmodstr\u001b[0;34m(self, t, wb)\u001b[0m\n\u001b[1;32m     74\u001b[0m         \u001b[0mdzb_dt\u001b[0m  \u001b[0;34m=\u001b[0m \u001b[0;34m-\u001b[0m \u001b[0mMz\u001b[0m\u001b[0;34m*\u001b[0m\u001b[0mzb\u001b[0m \u001b[0;34m-\u001b[0m \u001b[0mMy\u001b[0m\u001b[0;34m*\u001b[0m\u001b[0myb\u001b[0m      \u001b[0;31m# linear terms\u001b[0m\u001b[0;34m\u001b[0m\u001b[0;34m\u001b[0m\u001b[0m\n\u001b[1;32m     75\u001b[0m         \u001b[0mdzb_dt\u001b[0m  \u001b[0;34m=\u001b[0m \u001b[0mdzb_dt\u001b[0m \u001b[0;34m-\u001b[0m \u001b[0mM1\u001b[0m\u001b[0;34m*\u001b[0m\u001b[0mTs1\u001b[0m\u001b[0;34m*\u001b[0m\u001b[0myb\u001b[0m   \u001b[0;31m# nonlinear term\u001b[0m\u001b[0;34m\u001b[0m\u001b[0;34m\u001b[0m\u001b[0m\n\u001b[0;32m---> 76\u001b[0;31m         \u001b[0mdwb_dt\u001b[0m  \u001b[0;34m=\u001b[0m \u001b[0mnp\u001b[0m\u001b[0;34m.\u001b[0m\u001b[0mconcatenate\u001b[0m\u001b[0;34m(\u001b[0m\u001b[0;34m(\u001b[0m\u001b[0mdyb_dt\u001b[0m\u001b[0;34m,\u001b[0m \u001b[0mdzb_dt\u001b[0m\u001b[0;34m)\u001b[0m\u001b[0;34m)\u001b[0m\u001b[0;34m\u001b[0m\u001b[0;34m\u001b[0m\u001b[0m\n\u001b[0m\u001b[1;32m     77\u001b[0m         \u001b[0mok\u001b[0m \u001b[0;34m=\u001b[0m \u001b[0;36m1\u001b[0m\u001b[0;34m\u001b[0m\u001b[0;34m\u001b[0m\u001b[0m\n\u001b[1;32m     78\u001b[0m \u001b[0;34m\u001b[0m\u001b[0m\n",
      "\u001b[0;32m<__array_function__ internals>\u001b[0m in \u001b[0;36mconcatenate\u001b[0;34m(*args, **kwargs)\u001b[0m\n",
      "\u001b[0;31mValueError\u001b[0m: all the input arrays must have same number of dimensions, but the array at index 0 has 1 dimension(s) and the array at index 1 has 2 dimension(s)"
     ]
    }
   ],
   "source": [
    "import numpy as np\n",
    "from scipy.linalg import expm, sinm, cosm\n",
    "from scipy import integrate\n",
    "from numpy import sin, cos, conj, cumsum, real, zeros, pi, trapz, arange, vstack, hstack, meshgrid, sqrt, diag, einsum, newaxis, float32\n",
    "from numpy.random import rand\n",
    "from scipy.integrate import solve_ivp\n",
    "\n",
    "class TensionModulatedString():\n",
    "    def __init__(self\n",
    "                ,ell = 1            # m             string length at rest\n",
    "                ,A   = 0.19634e-6   # m**2           string cross section area\n",
    "                ,I   = 0.02454e-12  # m**4           string moment of intertia\n",
    "                ,rho = 7800         # kg/m**3        string density\n",
    "                ,E   = 190e9        # Pa            string elasticity\n",
    "                ,d1  = 4e-3         # kg/(ms)       string frequ. independent loss\n",
    "                ,d3  = 6e-5         # kg m/s        string frequ. dependent loss\n",
    "                ,Ts0 = 150          # N             string tension\n",
    "                ,M   = 50           #               number of expansion terms  \n",
    "                ):\n",
    "        super(TensionModulatedString, self).__init__()\n",
    "        \n",
    "        self.ell = ell\n",
    "        self.A = A\n",
    "        self.I = I\n",
    "        self.rho = rho\n",
    "        self.E = E\n",
    "        self.d1 = d1\n",
    "        self.d3 = d3\n",
    "        self.Ts0 = Ts0\n",
    "        self.M = M       \n",
    "        \n",
    "    def create_impulse(self, xe_rel, ye_rel):\n",
    "        # Explicity copy variables\n",
    "        \n",
    "        return fe_xy\n",
    "\n",
    "    def create_random_initial(self):\n",
    "        \n",
    "            \n",
    "        return fe_xy\n",
    "        \n",
    "\n",
    "    def tensmodstr(self,t,wb):\n",
    "\n",
    "        # extract parameter values from self\n",
    "        ell     = self.ell\n",
    "        E       = self.E\n",
    "        I       = self.I\n",
    "        rho     = self.rho\n",
    "        A       = self.A\n",
    "        d1      = self.d1\n",
    "        d3      = self.d3\n",
    "        Ts0     = self.Ts0\n",
    "        M       = self.M\n",
    "\n",
    "        # extract yb and zb from wb\n",
    "        yb      = wb[:M]\n",
    "        zb      = wb[M:2*M]\n",
    "\n",
    "        # set up vectors and matrices\n",
    "        mu      = np.arange(1,M+1)\n",
    "        kmu     = mu*pi/ell\n",
    "        Mz      = diag((d1+d3*kmu**2)/(rho*A))\n",
    "        My      = diag((Ts0*kmu**2 + E*I*kmu**4)/(rho*A))\n",
    "        M1      = diag(kmu**2/(rho*A))\n",
    "        M2      = diag(mu**2)\n",
    "\n",
    "        # calculate additional string tension Ts1\n",
    "        Ts1     = E*A*pi**2/ell**4 * yb.transpose()@M2@yb \n",
    "\n",
    "        # calculate first order derivatives\n",
    "\n",
    "        dyb_dt  = zb\n",
    "        dzb_dt  = - Mz*zb - My*yb      # linear terms\n",
    "        dzb_dt  = dzb_dt - M1*Ts1*yb   # nonlinear term\n",
    "        dwb_dt  = np.concatenate((dyb_dt, dzb_dt))\n",
    "        ok = 1\n",
    "\n",
    "    def solve(self, fe_x):\n",
    "        ## Copy internal variables\n",
    "        \n",
    "        xe  = 0.28         # m             pluck position\n",
    "        hi  = 0.03         # m             initial deflection at pluck position\n",
    "        xa  = 0.28         # m             listening position\n",
    "        # xa  = linspace(0,self.ell,100) \n",
    "\n",
    "\n",
    "        tmax = 0.1         # s             time duration for evaluation \n",
    "\n",
    "        tspan   = hstack((0, tmax))                    # time span for ode\n",
    "\n",
    "        mu      = np.arange(1,self.M+1)                 # index for Fourier-Sine transf.\n",
    "        kmu     = mu*pi/self.ell              # argument of sine functions\n",
    "\n",
    "        # Fourier-Sine coefficients of the initial deflection\n",
    "        yb0     = hi *(self.ell/(self.ell-xe)*sin(kmu*xe)/(kmu*xe))/kmu\n",
    "\n",
    "        zb0     = zeros((self.M))               # initial condition for derivative \n",
    "        wb0     = np.concatenate((yb0, zb0))                 # initial condition for ode   \n",
    "\n",
    "        #[t1,wb1] = ode45(@(t1,wb1) tensmodstr(t1,wb1,P),tspan,wb0) # solve ode\n",
    "        vdp1 = lambda t1,wb1: self.tensmodstr(t1,wb1)\n",
    "        sol = solve_ivp (vdp1, tspan, wb0)\n",
    "\n",
    "        yb1 = wb1[:,:self.M]   # solution for the FS-transform of the deflection\n",
    "\n",
    "        # inverse Fourier-Sine transformation\n",
    "        y1      = yb1*sin(kmu*xa) * 2/self.ell\n",
    "\n",
    "\n",
    "        return y1\n",
    "    \n",
    "    \n",
    "tensionString = TensionModulatedString()\n",
    "y1 = tensionString.solve(1)"
   ]
  },
  {
   "cell_type": "code",
   "execution_count": 7,
   "metadata": {},
   "outputs": [
    {
     "ename": "TypeError",
     "evalue": "solve() takes 2 positional arguments but 3 were given",
     "output_type": "error",
     "traceback": [
      "\u001b[0;31m---------------------------------------------------------------------------\u001b[0m",
      "\u001b[0;31mTypeError\u001b[0m                                 Traceback (most recent call last)",
      "\u001b[0;32m/var/folders/ch/k00bjcdj1ts5_ghvrgm8_r_h0000gp/T/ipykernel_63586/4182456915.py\u001b[0m in \u001b[0;36m<module>\u001b[0;34m\u001b[0m\n\u001b[1;32m     10\u001b[0m \u001b[0;31m# fe_xy = tensionString.create_impulse(xe,ye)\u001b[0m\u001b[0;34m\u001b[0m\u001b[0;34m\u001b[0m\u001b[0;34m\u001b[0m\u001b[0m\n\u001b[1;32m     11\u001b[0m \u001b[0;31m# fe_xy = tensionString.create_random_initial()\u001b[0m\u001b[0;34m\u001b[0m\u001b[0;34m\u001b[0m\u001b[0;34m\u001b[0m\u001b[0m\n\u001b[0;32m---> 12\u001b[0;31m \u001b[0mt\u001b[0m\u001b[0;34m,\u001b[0m \u001b[0my\u001b[0m\u001b[0;34m,\u001b[0m \u001b[0mybar\u001b[0m\u001b[0;34m,\u001b[0m \u001b[0my_sp\u001b[0m \u001b[0;34m=\u001b[0m \u001b[0mtensionString\u001b[0m\u001b[0;34m.\u001b[0m\u001b[0msolve\u001b[0m\u001b[0;34m(\u001b[0m\u001b[0;36m1\u001b[0m\u001b[0;34m,\u001b[0m\u001b[0mdur\u001b[0m\u001b[0;34m)\u001b[0m\u001b[0;34m\u001b[0m\u001b[0;34m\u001b[0m\u001b[0m\n\u001b[0m",
      "\u001b[0;31mTypeError\u001b[0m: solve() takes 2 positional arguments but 3 were given"
     ]
    }
   ],
   "source": [
    "# from WaveSolver2D import WaveSolver2D\n",
    "import numpy as np\n",
    "from numpy import sin, cos, conj, cumsum, real\n",
    "\n",
    "tensionString = TensionModulatedString()\n",
    "\n",
    "xe = 0.2 # relative position\n",
    "ye = 0.2 # \n",
    "dur = 0.01 # duration seconds\n",
    "# fe_xy = tensionString.create_impulse(xe,ye)\n",
    "# fe_xy = tensionString.create_random_initial()\n",
    "t, y, ybar, y_sp = tensionString.solve(1,dur)"
   ]
  },
  {
   "cell_type": "code",
   "execution_count": null,
   "metadata": {},
   "outputs": [],
   "source": [
    "from matplotlib import pyplot as plt \n",
    "plt.rcParams[.transpose()text.usetex.transpose()] = True\n",
    "\n",
    "# plot time signal\n",
    "# y = real(y_x[20,:])\n",
    "plt.plot(t,y)\n",
    "plt.ylabel(.transpose()$y**(x_\\mathrm{o},t)$.transpose(), fontsize = 14) \n",
    "plt.xlabel(.transpose()Time $t$ in $[\\mathrm{s}]$.transpose(), fontsize=14)\n",
    "\n",
    "\n",
    "# plot time space\n",
    "plt.figure()\n",
    "plt.imshow(ntranspose(real(y_sp[:,:,0])), interpolation=.transpose()nearest.transpose())\n",
    "\n",
    "plt.figure()\n",
    "plt.imshow(ntranspose(real(y_sp[:,:,10])), interpolation=.transpose()nearest.transpose())"
   ]
  },
  {
   "cell_type": "code",
   "execution_count": null,
   "metadata": {},
   "outputs": [],
   "source": [
    "import IPython.display as ipd\n",
    "# Sound output\n",
    "y = real(y) \n",
    "y = y/max(y)\n",
    "ipd.Audio(y, rate=waveSolver2D.Fs) # load a NumPy array"
   ]
  },
  {
   "cell_type": "code",
   "execution_count": null,
   "metadata": {},
   "outputs": [],
   "source": []
  },
  {
   "cell_type": "code",
   "execution_count": null,
   "metadata": {},
   "outputs": [],
   "source": []
  }
 ],
 "metadata": {
  "colab": {
   "name": "WaveEquationRaw.ipynb",
   "provenance": []
  },
  "interpreter": {
   "hash": "3c69ca1b586e134382ca8eab27e062f9620e58679c877d6c617c4048d029e3a9"
  },
  "kernelspec": {
   "display_name": "Python 3 (ipykernel)",
   "language": "python",
   "name": "python3"
  },
  "language_info": {
   "codemirror_mode": {
    "name": "ipython",
    "version": 3
   },
   "file_extension": ".py",
   "mimetype": "text/x-python",
   "name": "python",
   "nbconvert_exporter": "python",
   "pygments_lexer": "ipython3",
   "version": "3.7.11"
  }
 },
 "nbformat": 4,
 "nbformat_minor": 4
}
