{
 "cells": [
  {
   "cell_type": "markdown",
   "metadata": {
    "id": "sV0gtUy4EO29"
   },
   "source": [
    "## Physical Model of a guitar string \n",
    "\n",
    "   Synthesis is based on the Functional Transformation Method (FTM)\n",
    " \n",
    "   Dr. Maximilian Schaefer @FAU, 2021\n",
    "   Contact: max.schaefer@fau.de\n",
    "\n",
    "   References: see lecture slides \n",
    "\n",
    "Python Translation: S. Schlecht"
   ]
  },
  {
   "cell_type": "markdown",
   "metadata": {
    "id": "8rYTlCKzEO2_"
   },
   "source": []
  },
  {
   "cell_type": "code",
   "execution_count": null,
   "metadata": {
    "id": "zoWZoPpOEO2_"
   },
   "outputs": [],
   "source": []
  }
 ],
 "metadata": {
  "colab": {
   "name": "WaveEquationRaw.ipynb",
   "provenance": []
  },
  "interpreter": {
   "hash": "3c69ca1b586e134382ca8eab27e062f9620e58679c877d6c617c4048d029e3a9"
  },
  "kernelspec": {
   "display_name": "Python 3 (ipykernel)",
   "language": "python",
   "name": "python3"
  },
  "language_info": {
   "codemirror_mode": {
    "name": "ipython",
    "version": 3
   },
   "file_extension": ".py",
   "mimetype": "text/x-python",
   "name": "python",
   "nbconvert_exporter": "python",
   "pygments_lexer": "ipython3",
   "version": "3.7.11"
  }
 },
 "nbformat": 4,
 "nbformat_minor": 4
}
