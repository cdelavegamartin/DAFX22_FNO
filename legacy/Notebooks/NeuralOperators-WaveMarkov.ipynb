{
 "cells": [
  {
   "cell_type": "markdown",
   "metadata": {
    "id": "03H-ziQi4h9K"
   },
   "source": [
    "Install py-pde library"
   ]
  },
  {
   "cell_type": "code",
   "execution_count": 24,
   "metadata": {
    "id": "x3UsgXASgSo1"
   },
   "outputs": [
    {
     "name": "stdout",
     "output_type": "stream",
     "text": [
      "Requirement already satisfied: py-pde in /Users/sebastian/opt/anaconda3/envs/neuralOperator37/lib/python3.7/site-packages (0.17.1)\n",
      "Requirement already satisfied: numba>=0.50.0 in /Users/sebastian/opt/anaconda3/envs/neuralOperator37/lib/python3.7/site-packages (from py-pde) (0.55.1)\n",
      "Requirement already satisfied: numpy>=1.18.0 in /Users/sebastian/opt/anaconda3/envs/neuralOperator37/lib/python3.7/site-packages (from py-pde) (1.21.5)\n",
      "Requirement already satisfied: scipy>=1.4.0 in /Users/sebastian/opt/anaconda3/envs/neuralOperator37/lib/python3.7/site-packages (from py-pde) (1.7.3)\n",
      "Requirement already satisfied: sympy>=1.5.0 in /Users/sebastian/opt/anaconda3/envs/neuralOperator37/lib/python3.7/site-packages (from py-pde) (1.9)\n",
      "Requirement already satisfied: matplotlib>=3.1.0 in /Users/sebastian/opt/anaconda3/envs/neuralOperator37/lib/python3.7/site-packages (from py-pde) (3.5.1)\n",
      "Requirement already satisfied: python-dateutil>=2.7 in /Users/sebastian/opt/anaconda3/envs/neuralOperator37/lib/python3.7/site-packages (from matplotlib>=3.1.0->py-pde) (2.8.2)\n",
      "Requirement already satisfied: fonttools>=4.22.0 in /Users/sebastian/opt/anaconda3/envs/neuralOperator37/lib/python3.7/site-packages (from matplotlib>=3.1.0->py-pde) (4.29.1)\n",
      "Requirement already satisfied: packaging>=20.0 in /Users/sebastian/opt/anaconda3/envs/neuralOperator37/lib/python3.7/site-packages (from matplotlib>=3.1.0->py-pde) (21.3)\n",
      "Requirement already satisfied: kiwisolver>=1.0.1 in /Users/sebastian/opt/anaconda3/envs/neuralOperator37/lib/python3.7/site-packages (from matplotlib>=3.1.0->py-pde) (1.3.2)\n",
      "Requirement already satisfied: pyparsing>=2.2.1 in /Users/sebastian/opt/anaconda3/envs/neuralOperator37/lib/python3.7/site-packages (from matplotlib>=3.1.0->py-pde) (3.0.7)\n",
      "Requirement already satisfied: cycler>=0.10 in /Users/sebastian/opt/anaconda3/envs/neuralOperator37/lib/python3.7/site-packages (from matplotlib>=3.1.0->py-pde) (0.11.0)\n",
      "Requirement already satisfied: pillow>=6.2.0 in /Users/sebastian/opt/anaconda3/envs/neuralOperator37/lib/python3.7/site-packages (from matplotlib>=3.1.0->py-pde) (9.0.1)\n",
      "Requirement already satisfied: llvmlite<0.39,>=0.38.0rc1 in /Users/sebastian/opt/anaconda3/envs/neuralOperator37/lib/python3.7/site-packages (from numba>=0.50.0->py-pde) (0.38.0)\n",
      "Requirement already satisfied: setuptools in /Users/sebastian/opt/anaconda3/envs/neuralOperator37/lib/python3.7/site-packages (from numba>=0.50.0->py-pde) (58.0.4)\n",
      "Requirement already satisfied: six>=1.5 in /Users/sebastian/opt/anaconda3/envs/neuralOperator37/lib/python3.7/site-packages (from python-dateutil>=2.7->matplotlib>=3.1.0->py-pde) (1.16.0)\n",
      "Requirement already satisfied: mpmath>=0.19 in /Users/sebastian/opt/anaconda3/envs/neuralOperator37/lib/python3.7/site-packages (from sympy>=1.5.0->py-pde) (1.2.1)\n",
      "Note: you may need to restart the kernel to use updated packages.\n"
     ]
    }
   ],
   "source": [
    "%pip install py-pde"
   ]
  },
  {
   "cell_type": "markdown",
   "metadata": {
    "id": "7mOpoZ_m8muk"
   },
   "source": [
    "Generate dataset"
   ]
  },
  {
   "cell_type": "markdown",
   "metadata": {
    "id": "8rYTlCKzEO2_"
   },
   "source": [
    "## Basic Parameter Set"
   ]
  },
  {
   "cell_type": "code",
   "execution_count": 25,
   "metadata": {
    "id": "zoWZoPpOEO2_"
   },
   "outputs": [],
   "source": [
    "import numpy as np\n",
    "import torch\n",
    "\n",
    "f = 4410      # sampling frequency  \n",
    "T = 1/f        # sampling time \n",
    "dur = 0.1       # simulation duration\n",
    "\n",
    "t = np.arange(0, dur+T/2, T) # 0:T:dur;    # time vector \n",
    "\n",
    "l = 5          # length of the pipe \n",
    "dx = 1e-2      # spatial stepsize \n",
    "xs = np.arange(0, l+dx/2, dx) # 0:dx:l;    # space vector \n",
    "numXs = np.size(xs)\n",
    "\n",
    "#c0 = 340\n",
    "c0 = 30       # propagation speed"
   ]
  },
  {
   "cell_type": "markdown",
   "metadata": {
    "id": "gAnjmJJcEO3A"
   },
   "source": [
    "## FTM Stuff"
   ]
  },
  {
   "cell_type": "code",
   "execution_count": 26,
   "metadata": {
    "colab": {
     "base_uri": "https://localhost:8080/"
    },
    "executionInfo": {
     "elapsed": 7,
     "status": "ok",
     "timestamp": 1645112076494,
     "user": {
      "displayName": "Julian Parker",
      "photoUrl": "https://lh3.googleusercontent.com/a-/AOh14GhcbXOvtKBEZSjmfUrdmYU6lnatE93gxu6m-7nqAQ=s64",
      "userId": "11864545976672255677"
     },
     "user_tz": -60
    },
    "id": "5g_6KX23EO3A",
    "outputId": "311e3759-ca6b-43e3-d264-59d7aa2e2cc2"
   },
   "outputs": [],
   "source": [
    "Mu = 250       # number of eigenvalues \n",
    "mu = np.arange(1, Mu+1) # 1:Mu;    \n",
    "\n",
    "test = 1j*c0*mu*np.pi/l\n",
    "\n",
    "gmu = np.concatenate((mu*np.pi/l, mu*np.pi/l))\n",
    "smu = np.concatenate((1j*c0*mu*np.pi/l, -1j*c0*mu*np.pi/l))\n",
    "\n",
    "K1 = lambda x: 1j*np.sin(gmu*x) # @(x) 1j*sin(gmu*x); \n",
    "K2 = lambda x: 1j*smu*np.sin(gmu*x)\n",
    "Ka1 = lambda x: 1j/c0**2*np.conj(smu)*np.sin(gmu*x)\n",
    "Ka2 = lambda x: 1j*np.sin(gmu*x)\n",
    "\n",
    "nmu = 1./(l/2*(c0**2*smu + np.conj(smu)))\n",
    "\n",
    "A = np.diag(np.exp(smu*T)); \n"
   ]
  },
  {
   "cell_type": "code",
   "execution_count": 97,
   "metadata": {
    "colab": {
     "base_uri": "https://localhost:8080/"
    },
    "executionInfo": {
     "elapsed": 7089,
     "status": "ok",
     "timestamp": 1645112083579,
     "user": {
      "displayName": "Julian Parker",
      "photoUrl": "https://lh3.googleusercontent.com/a-/AOh14GhcbXOvtKBEZSjmfUrdmYU6lnatE93gxu6m-7nqAQ=s64",
      "userId": "11864545976672255677"
     },
     "user_tz": -60
    },
    "id": "eJXPzuB-EO3B",
    "outputId": "b81b31bf-bcc6-4e8b-d485-04f05a4db937"
   },
   "outputs": [
    {
     "name": "stderr",
     "output_type": "stream",
     "text": [
      "/Users/sebastian/opt/anaconda3/envs/neuralOperator37/lib/python3.7/site-packages/ipykernel_launcher.py:51: ComplexWarning: Casting complex values to real discards the imaginary part\n",
      "/Users/sebastian/opt/anaconda3/envs/neuralOperator37/lib/python3.7/site-packages/ipykernel_launcher.py:52: ComplexWarning: Casting complex values to real discards the imaginary part\n"
     ]
    }
   ],
   "source": [
    "xeVec = np.array([0.1*l, 0.2*l, 0.3*l]) # vector of excitaion positions (can be extended) \n",
    "\n",
    "num_param_steps = 1323\n",
    "field_values = np.linspace(0,10,num_param_steps)\n",
    "grid_size = numXs\n",
    "\n",
    "training_input = torch.zeros(num_param_steps, grid_size,2)\n",
    "training_output = torch.zeros(num_param_steps, grid_size,1)\n",
    "\n",
    "# grid = CartesianGrid([[0, 1]], grid_size, periodic=False)\n",
    "\n",
    "index = 0\n",
    "\n",
    "for xe, xeVal in enumerate(xeVec): #for xe = 1:length(xeVec)\n",
    "    # Excitation for the wave equation is a simple delta-impulse at\n",
    "    # position xe\n",
    "    # Possible extensions: \n",
    "    # - exciation by a hamming window to have a more smooth excitation \n",
    "    # - combination with a temporal exciation shape \n",
    "    yi = Ka2(xeVal)*T; # set initial values for states\n",
    "    \n",
    "    # vectors \n",
    "    ybar = np.zeros((2*Mu, np.size(t)),dtype=complex); \n",
    "    \n",
    "    # set initial states\n",
    "    ybar[:,0] = yi; \n",
    "    \n",
    "    test = range(1,np.size(t))\n",
    "    \n",
    "    # processing to create time progression of individual states\n",
    "    for k in range(1,np.size(t)) :\n",
    "        ybar[:,k] = A@ybar[:,k-1]\n",
    "    \n",
    "    \n",
    "    # create output signal over time at a single observation position\n",
    "    # (maybe this part is not necessary, therefore it is commented)\n",
    "    xo = 0.7*l; \n",
    "    c1 = K1(xo); \n",
    "    y = c1@ybar; # recover deflection from states (inverse transformation)\n",
    "    y = np.real(y)\n",
    "    \n",
    "    \n",
    "    # create spatial vectors. \n",
    "    # Result y_x: spatial distribution of the deflection y on the pipe at all\n",
    "    # temportal sampling points\n",
    "    \n",
    "    K1_x = np.zeros((np.size(xs), 2*Mu)); \n",
    "    y_x = np.zeros((np.size(xs), np.size(t))); \n",
    "\n",
    "    for xi in range(np.size(xs)) : #1:length(xs) \n",
    "        K1_x[xi,:] = K1(xs[xi])/nmu; \n",
    "        y_x[xi,:] = K1_x[xi,:]@ybar; \n",
    "    \n",
    "    # take the real part because there might be a small imaginary part \n",
    "    y_x = np.real(y_x) \n",
    "    y_x = y_x / 10**6 # scale the output to less than 1\n",
    "\n",
    "    for k in range(1,np.size(t)) :\n",
    "        #field = ScalarField(grid, val)\n",
    "        #result = solve_poisson_equation(field, bc=[{\"value\": 0}, {\"derivative\": 1}])\n",
    "        training_input[index,:,0] = torch.tensor(y_x[:,k-1])\n",
    "        training_input[index,:,1] = torch.linspace(0,1, grid_size)\n",
    "        training_output[index,:,0] = torch.tensor(y_x[:,k])\n",
    "        index += 1"
   ]
  },
  {
   "cell_type": "markdown",
   "metadata": {
    "id": "7p3PZyoD75Rm"
   },
   "source": [
    "Model definitions copied from https://github.com/zongyi-li/fourier_neural_operator"
   ]
  },
  {
   "cell_type": "code",
   "execution_count": 28,
   "metadata": {
    "id": "HUxZF0Zr7248"
   },
   "outputs": [],
   "source": [
    "import torch.nn as nn\n",
    "import torch.nn.functional as F\n",
    "\n",
    "################################################################\n",
    "#  1d fourier layer\n",
    "################################################################\n",
    "class SpectralConv1d(nn.Module):\n",
    "    def __init__(self, in_channels, out_channels, modes1):\n",
    "        super(SpectralConv1d, self).__init__()\n",
    "\n",
    "        \"\"\"\n",
    "        1D Fourier layer. It does FFT, linear transform, and Inverse FFT.    \n",
    "        \"\"\"\n",
    "\n",
    "        self.in_channels = in_channels\n",
    "        self.out_channels = out_channels\n",
    "        self.modes1 = modes1  #Number of Fourier modes to multiply, at most floor(N/2) + 1\n",
    "\n",
    "        self.scale = (1 / (in_channels*out_channels))\n",
    "        self.weights1 = nn.Parameter(self.scale * torch.rand(in_channels, out_channels, self.modes1, dtype=torch.cfloat))\n",
    "\n",
    "    # Complex multiplication\n",
    "    def compl_mul1d(self, input, weights):\n",
    "        # (batch, in_channel, x ), (in_channel, out_channel, x) -> (batch, out_channel, x)\n",
    "        return torch.einsum(\"bix,iox->box\", input, weights)\n",
    "\n",
    "    def forward(self, x):\n",
    "        batchsize = x.shape[0]\n",
    "        #Compute Fourier coeffcients up to factor of e^(- something constant)\n",
    "        x_ft = torch.fft.rfft(x)\n",
    "\n",
    "        # Multiply relevant Fourier modes\n",
    "        out_ft = torch.zeros(batchsize, self.out_channels, x.size(-1)//2 + 1,  device=x.device, dtype=torch.cfloat)\n",
    "        out_ft[:, :, :self.modes1] = self.compl_mul1d(x_ft[:, :, :self.modes1], self.weights1)\n",
    "\n",
    "        #Return to physical space\n",
    "        x = torch.fft.irfft(out_ft, n=x.size(-1))\n",
    "        return x\n",
    "\n",
    "class FNO1d(nn.Module):\n",
    "    def __init__(self, modes, width):\n",
    "        super(FNO1d, self).__init__()\n",
    "\n",
    "        \"\"\"\n",
    "        The overall network. It contains 4 layers of the Fourier layer.\n",
    "        1. Lift the input to the desire channel dimension by self.fc0 .\n",
    "        2. 4 layers of the integral operators u' = (W + K)(u).\n",
    "            W defined by self.w; K defined by self.conv .\n",
    "        3. Project from the channel space to the output space by self.fc1 and self.fc2 .\n",
    "        \n",
    "        input: the solution of the initial condition and location (a(x), x)\n",
    "        input shape: (batchsize, x=s, c=2)\n",
    "        output: the solution of a later timestep\n",
    "        output shape: (batchsize, x=s, c=1)\n",
    "        \"\"\"\n",
    "\n",
    "        self.modes1 = modes\n",
    "        self.width = width\n",
    "        self.padding = 2 # pad the domain if input is non-periodic\n",
    "        self.fc0 = nn.Linear(2, self.width) # input channel is 2: (a(x), x)\n",
    "\n",
    "        self.conv0 = SpectralConv1d(self.width, self.width, self.modes1)\n",
    "        self.conv1 = SpectralConv1d(self.width, self.width, self.modes1)\n",
    "        self.conv2 = SpectralConv1d(self.width, self.width, self.modes1)\n",
    "        self.conv3 = SpectralConv1d(self.width, self.width, self.modes1)\n",
    "        self.w0 = nn.Conv1d(self.width, self.width, 1)\n",
    "        self.w1 = nn.Conv1d(self.width, self.width, 1)\n",
    "        self.w2 = nn.Conv1d(self.width, self.width, 1)\n",
    "        self.w3 = nn.Conv1d(self.width, self.width, 1)\n",
    "\n",
    "        self.fc1 = nn.Linear(self.width, 128)\n",
    "        self.fc2 = nn.Linear(128, 1)\n",
    "\n",
    "    def forward(self, x):\n",
    "        x = self.fc0(x)\n",
    "        x = x.permute(0, 2, 1)\n",
    "        # x = F.pad(x, [0,self.padding]) # pad the domain if input is non-periodic\n",
    "\n",
    "        x1 = self.conv0(x)\n",
    "        x2 = self.w0(x)\n",
    "        x = F.gelu(x1) + x2\n",
    "\n",
    "        x1 = self.conv1(x)\n",
    "        x2 = self.w1(x)\n",
    "        x = F.gelu(x1) + x2\n",
    "\n",
    "        x1 = self.conv2(x)\n",
    "        x2 = self.w2(x)\n",
    "        x = F.gelu(x1) + x2\n",
    "\n",
    "        x1 = self.conv3(x)\n",
    "        x2 = self.w3(x)\n",
    "        x = F.gelu(x1) + x2\n",
    "\n",
    "        # x = x[..., :-self.padding] # pad the domain if input is non-periodic\n",
    "        x = x.permute(0, 2, 1)\n",
    "        x = self.fc1(x)\n",
    "        x = F.gelu(x)\n",
    "        x = self.fc2(x)\n",
    "        return x\n"
   ]
  },
  {
   "cell_type": "code",
   "execution_count": 135,
   "metadata": {
    "id": "qd_5TzJUIgeE"
   },
   "outputs": [
    {
     "name": "stdout",
     "output_type": "stream",
     "text": [
      " loss:nan0185552135"
     ]
    },
    {
     "ename": "KeyboardInterrupt",
     "evalue": "",
     "output_type": "error",
     "traceback": [
      "\u001b[0;31m---------------------------------------------------------------------------\u001b[0m",
      "\u001b[0;31mKeyboardInterrupt\u001b[0m                         Traceback (most recent call last)",
      "\u001b[0;32m/var/folders/ch/k00bjcdj1ts5_ghvrgm8_r_h0000gp/T/ipykernel_65206/30615937.py\u001b[0m in \u001b[0;36m<module>\u001b[0;34m\u001b[0m\n\u001b[1;32m     19\u001b[0m     \u001b[0;31m#input, output = input.cuda(), output.cuda()\u001b[0m\u001b[0;34m\u001b[0m\u001b[0;34m\u001b[0m\u001b[0;34m\u001b[0m\u001b[0m\n\u001b[1;32m     20\u001b[0m     \u001b[0moptimizer\u001b[0m\u001b[0;34m.\u001b[0m\u001b[0mzero_grad\u001b[0m\u001b[0;34m(\u001b[0m\u001b[0;34m)\u001b[0m\u001b[0;34m\u001b[0m\u001b[0;34m\u001b[0m\u001b[0m\n\u001b[0;32m---> 21\u001b[0;31m     \u001b[0mpred_output\u001b[0m \u001b[0;34m=\u001b[0m \u001b[0mmodel\u001b[0m\u001b[0;34m(\u001b[0m\u001b[0minput\u001b[0m\u001b[0;34m)\u001b[0m\u001b[0;34m\u001b[0m\u001b[0;34m\u001b[0m\u001b[0m\n\u001b[0m\u001b[1;32m     22\u001b[0m     \u001b[0mloss\u001b[0m \u001b[0;34m=\u001b[0m \u001b[0mtorch\u001b[0m\u001b[0;34m.\u001b[0m\u001b[0mnn\u001b[0m\u001b[0;34m.\u001b[0m\u001b[0mfunctional\u001b[0m\u001b[0;34m.\u001b[0m\u001b[0mmse_loss\u001b[0m\u001b[0;34m(\u001b[0m\u001b[0mpred_output\u001b[0m\u001b[0;34m,\u001b[0m \u001b[0moutput\u001b[0m\u001b[0;34m)\u001b[0m\u001b[0;34m\u001b[0m\u001b[0;34m\u001b[0m\u001b[0m\n\u001b[1;32m     23\u001b[0m     \u001b[0mloss\u001b[0m\u001b[0;34m.\u001b[0m\u001b[0mbackward\u001b[0m\u001b[0;34m(\u001b[0m\u001b[0;34m)\u001b[0m\u001b[0;34m\u001b[0m\u001b[0;34m\u001b[0m\u001b[0m\n",
      "\u001b[0;32m~/opt/anaconda3/envs/neuralOperator37/lib/python3.7/site-packages/torch/nn/modules/module.py\u001b[0m in \u001b[0;36m_call_impl\u001b[0;34m(self, *input, **kwargs)\u001b[0m\n\u001b[1;32m   1100\u001b[0m         if not (self._backward_hooks or self._forward_hooks or self._forward_pre_hooks or _global_backward_hooks\n\u001b[1;32m   1101\u001b[0m                 or _global_forward_hooks or _global_forward_pre_hooks):\n\u001b[0;32m-> 1102\u001b[0;31m             \u001b[0;32mreturn\u001b[0m \u001b[0mforward_call\u001b[0m\u001b[0;34m(\u001b[0m\u001b[0;34m*\u001b[0m\u001b[0minput\u001b[0m\u001b[0;34m,\u001b[0m \u001b[0;34m**\u001b[0m\u001b[0mkwargs\u001b[0m\u001b[0;34m)\u001b[0m\u001b[0;34m\u001b[0m\u001b[0;34m\u001b[0m\u001b[0m\n\u001b[0m\u001b[1;32m   1103\u001b[0m         \u001b[0;31m# Do not call functions when jit is used\u001b[0m\u001b[0;34m\u001b[0m\u001b[0;34m\u001b[0m\u001b[0;34m\u001b[0m\u001b[0m\n\u001b[1;32m   1104\u001b[0m         \u001b[0mfull_backward_hooks\u001b[0m\u001b[0;34m,\u001b[0m \u001b[0mnon_full_backward_hooks\u001b[0m \u001b[0;34m=\u001b[0m \u001b[0;34m[\u001b[0m\u001b[0;34m]\u001b[0m\u001b[0;34m,\u001b[0m \u001b[0;34m[\u001b[0m\u001b[0;34m]\u001b[0m\u001b[0;34m\u001b[0m\u001b[0;34m\u001b[0m\u001b[0m\n",
      "\u001b[0;32m/var/folders/ch/k00bjcdj1ts5_ghvrgm8_r_h0000gp/T/ipykernel_65206/2710083854.py\u001b[0m in \u001b[0;36mforward\u001b[0;34m(self, x)\u001b[0m\n\u001b[1;32m     89\u001b[0m         \u001b[0mx\u001b[0m \u001b[0;34m=\u001b[0m \u001b[0mF\u001b[0m\u001b[0;34m.\u001b[0m\u001b[0mgelu\u001b[0m\u001b[0;34m(\u001b[0m\u001b[0mx1\u001b[0m\u001b[0;34m)\u001b[0m \u001b[0;34m+\u001b[0m \u001b[0mx2\u001b[0m\u001b[0;34m\u001b[0m\u001b[0;34m\u001b[0m\u001b[0m\n\u001b[1;32m     90\u001b[0m \u001b[0;34m\u001b[0m\u001b[0m\n\u001b[0;32m---> 91\u001b[0;31m         \u001b[0mx1\u001b[0m \u001b[0;34m=\u001b[0m \u001b[0mself\u001b[0m\u001b[0;34m.\u001b[0m\u001b[0mconv3\u001b[0m\u001b[0;34m(\u001b[0m\u001b[0mx\u001b[0m\u001b[0;34m)\u001b[0m\u001b[0;34m\u001b[0m\u001b[0;34m\u001b[0m\u001b[0m\n\u001b[0m\u001b[1;32m     92\u001b[0m         \u001b[0mx2\u001b[0m \u001b[0;34m=\u001b[0m \u001b[0mself\u001b[0m\u001b[0;34m.\u001b[0m\u001b[0mw3\u001b[0m\u001b[0;34m(\u001b[0m\u001b[0mx\u001b[0m\u001b[0;34m)\u001b[0m\u001b[0;34m\u001b[0m\u001b[0;34m\u001b[0m\u001b[0m\n\u001b[1;32m     93\u001b[0m         \u001b[0mx\u001b[0m \u001b[0;34m=\u001b[0m \u001b[0mF\u001b[0m\u001b[0;34m.\u001b[0m\u001b[0mgelu\u001b[0m\u001b[0;34m(\u001b[0m\u001b[0mx1\u001b[0m\u001b[0;34m)\u001b[0m \u001b[0;34m+\u001b[0m \u001b[0mx2\u001b[0m\u001b[0;34m\u001b[0m\u001b[0;34m\u001b[0m\u001b[0m\n",
      "\u001b[0;32m~/opt/anaconda3/envs/neuralOperator37/lib/python3.7/site-packages/torch/nn/modules/module.py\u001b[0m in \u001b[0;36m_call_impl\u001b[0;34m(self, *input, **kwargs)\u001b[0m\n\u001b[1;32m   1100\u001b[0m         if not (self._backward_hooks or self._forward_hooks or self._forward_pre_hooks or _global_backward_hooks\n\u001b[1;32m   1101\u001b[0m                 or _global_forward_hooks or _global_forward_pre_hooks):\n\u001b[0;32m-> 1102\u001b[0;31m             \u001b[0;32mreturn\u001b[0m \u001b[0mforward_call\u001b[0m\u001b[0;34m(\u001b[0m\u001b[0;34m*\u001b[0m\u001b[0minput\u001b[0m\u001b[0;34m,\u001b[0m \u001b[0;34m**\u001b[0m\u001b[0mkwargs\u001b[0m\u001b[0;34m)\u001b[0m\u001b[0;34m\u001b[0m\u001b[0;34m\u001b[0m\u001b[0m\n\u001b[0m\u001b[1;32m   1103\u001b[0m         \u001b[0;31m# Do not call functions when jit is used\u001b[0m\u001b[0;34m\u001b[0m\u001b[0;34m\u001b[0m\u001b[0;34m\u001b[0m\u001b[0m\n\u001b[1;32m   1104\u001b[0m         \u001b[0mfull_backward_hooks\u001b[0m\u001b[0;34m,\u001b[0m \u001b[0mnon_full_backward_hooks\u001b[0m \u001b[0;34m=\u001b[0m \u001b[0;34m[\u001b[0m\u001b[0;34m]\u001b[0m\u001b[0;34m,\u001b[0m \u001b[0;34m[\u001b[0m\u001b[0;34m]\u001b[0m\u001b[0;34m\u001b[0m\u001b[0;34m\u001b[0m\u001b[0m\n",
      "\u001b[0;32m/var/folders/ch/k00bjcdj1ts5_ghvrgm8_r_h0000gp/T/ipykernel_65206/2710083854.py\u001b[0m in \u001b[0;36mforward\u001b[0;34m(self, x)\u001b[0m\n\u001b[1;32m     32\u001b[0m         \u001b[0;31m# Multiply relevant Fourier modes\u001b[0m\u001b[0;34m\u001b[0m\u001b[0;34m\u001b[0m\u001b[0;34m\u001b[0m\u001b[0m\n\u001b[1;32m     33\u001b[0m         \u001b[0mout_ft\u001b[0m \u001b[0;34m=\u001b[0m \u001b[0mtorch\u001b[0m\u001b[0;34m.\u001b[0m\u001b[0mzeros\u001b[0m\u001b[0;34m(\u001b[0m\u001b[0mbatchsize\u001b[0m\u001b[0;34m,\u001b[0m \u001b[0mself\u001b[0m\u001b[0;34m.\u001b[0m\u001b[0mout_channels\u001b[0m\u001b[0;34m,\u001b[0m \u001b[0mx\u001b[0m\u001b[0;34m.\u001b[0m\u001b[0msize\u001b[0m\u001b[0;34m(\u001b[0m\u001b[0;34m-\u001b[0m\u001b[0;36m1\u001b[0m\u001b[0;34m)\u001b[0m\u001b[0;34m//\u001b[0m\u001b[0;36m2\u001b[0m \u001b[0;34m+\u001b[0m \u001b[0;36m1\u001b[0m\u001b[0;34m,\u001b[0m  \u001b[0mdevice\u001b[0m\u001b[0;34m=\u001b[0m\u001b[0mx\u001b[0m\u001b[0;34m.\u001b[0m\u001b[0mdevice\u001b[0m\u001b[0;34m,\u001b[0m \u001b[0mdtype\u001b[0m\u001b[0;34m=\u001b[0m\u001b[0mtorch\u001b[0m\u001b[0;34m.\u001b[0m\u001b[0mcfloat\u001b[0m\u001b[0;34m)\u001b[0m\u001b[0;34m\u001b[0m\u001b[0;34m\u001b[0m\u001b[0m\n\u001b[0;32m---> 34\u001b[0;31m         \u001b[0mout_ft\u001b[0m\u001b[0;34m[\u001b[0m\u001b[0;34m:\u001b[0m\u001b[0;34m,\u001b[0m \u001b[0;34m:\u001b[0m\u001b[0;34m,\u001b[0m \u001b[0;34m:\u001b[0m\u001b[0mself\u001b[0m\u001b[0;34m.\u001b[0m\u001b[0mmodes1\u001b[0m\u001b[0;34m]\u001b[0m \u001b[0;34m=\u001b[0m \u001b[0mself\u001b[0m\u001b[0;34m.\u001b[0m\u001b[0mcompl_mul1d\u001b[0m\u001b[0;34m(\u001b[0m\u001b[0mx_ft\u001b[0m\u001b[0;34m[\u001b[0m\u001b[0;34m:\u001b[0m\u001b[0;34m,\u001b[0m \u001b[0;34m:\u001b[0m\u001b[0;34m,\u001b[0m \u001b[0;34m:\u001b[0m\u001b[0mself\u001b[0m\u001b[0;34m.\u001b[0m\u001b[0mmodes1\u001b[0m\u001b[0;34m]\u001b[0m\u001b[0;34m,\u001b[0m \u001b[0mself\u001b[0m\u001b[0;34m.\u001b[0m\u001b[0mweights1\u001b[0m\u001b[0;34m)\u001b[0m\u001b[0;34m\u001b[0m\u001b[0;34m\u001b[0m\u001b[0m\n\u001b[0m\u001b[1;32m     35\u001b[0m \u001b[0;34m\u001b[0m\u001b[0m\n\u001b[1;32m     36\u001b[0m         \u001b[0;31m#Return to physical space\u001b[0m\u001b[0;34m\u001b[0m\u001b[0;34m\u001b[0m\u001b[0;34m\u001b[0m\u001b[0m\n",
      "\u001b[0;32m/var/folders/ch/k00bjcdj1ts5_ghvrgm8_r_h0000gp/T/ipykernel_65206/2710083854.py\u001b[0m in \u001b[0;36mcompl_mul1d\u001b[0;34m(self, input, weights)\u001b[0m\n\u001b[1;32m     23\u001b[0m     \u001b[0;32mdef\u001b[0m \u001b[0mcompl_mul1d\u001b[0m\u001b[0;34m(\u001b[0m\u001b[0mself\u001b[0m\u001b[0;34m,\u001b[0m \u001b[0minput\u001b[0m\u001b[0;34m,\u001b[0m \u001b[0mweights\u001b[0m\u001b[0;34m)\u001b[0m\u001b[0;34m:\u001b[0m\u001b[0;34m\u001b[0m\u001b[0;34m\u001b[0m\u001b[0m\n\u001b[1;32m     24\u001b[0m         \u001b[0;31m# (batch, in_channel, x ), (in_channel, out_channel, x) -> (batch, out_channel, x)\u001b[0m\u001b[0;34m\u001b[0m\u001b[0;34m\u001b[0m\u001b[0;34m\u001b[0m\u001b[0m\n\u001b[0;32m---> 25\u001b[0;31m         \u001b[0;32mreturn\u001b[0m \u001b[0mtorch\u001b[0m\u001b[0;34m.\u001b[0m\u001b[0meinsum\u001b[0m\u001b[0;34m(\u001b[0m\u001b[0;34m\"bix,iox->box\"\u001b[0m\u001b[0;34m,\u001b[0m \u001b[0minput\u001b[0m\u001b[0;34m,\u001b[0m \u001b[0mweights\u001b[0m\u001b[0;34m)\u001b[0m\u001b[0;34m\u001b[0m\u001b[0;34m\u001b[0m\u001b[0m\n\u001b[0m\u001b[1;32m     26\u001b[0m \u001b[0;34m\u001b[0m\u001b[0m\n\u001b[1;32m     27\u001b[0m     \u001b[0;32mdef\u001b[0m \u001b[0mforward\u001b[0m\u001b[0;34m(\u001b[0m\u001b[0mself\u001b[0m\u001b[0;34m,\u001b[0m \u001b[0mx\u001b[0m\u001b[0;34m)\u001b[0m\u001b[0;34m:\u001b[0m\u001b[0;34m\u001b[0m\u001b[0;34m\u001b[0m\u001b[0m\n",
      "\u001b[0;32m~/opt/anaconda3/envs/neuralOperator37/lib/python3.7/site-packages/torch/functional.py\u001b[0m in \u001b[0;36meinsum\u001b[0;34m(*args)\u001b[0m\n\u001b[1;32m    325\u001b[0m         \u001b[0;32mreturn\u001b[0m \u001b[0meinsum\u001b[0m\u001b[0;34m(\u001b[0m\u001b[0mequation\u001b[0m\u001b[0;34m,\u001b[0m \u001b[0;34m*\u001b[0m\u001b[0m_operands\u001b[0m\u001b[0;34m)\u001b[0m\u001b[0;34m\u001b[0m\u001b[0;34m\u001b[0m\u001b[0m\n\u001b[1;32m    326\u001b[0m \u001b[0;34m\u001b[0m\u001b[0m\n\u001b[0;32m--> 327\u001b[0;31m     \u001b[0;32mreturn\u001b[0m \u001b[0m_VF\u001b[0m\u001b[0;34m.\u001b[0m\u001b[0meinsum\u001b[0m\u001b[0;34m(\u001b[0m\u001b[0mequation\u001b[0m\u001b[0;34m,\u001b[0m \u001b[0moperands\u001b[0m\u001b[0;34m)\u001b[0m  \u001b[0;31m# type: ignore[attr-defined]\u001b[0m\u001b[0;34m\u001b[0m\u001b[0;34m\u001b[0m\u001b[0m\n\u001b[0m\u001b[1;32m    328\u001b[0m \u001b[0;34m\u001b[0m\u001b[0m\n\u001b[1;32m    329\u001b[0m \u001b[0;34m\u001b[0m\u001b[0m\n",
      "\u001b[0;31mKeyboardInterrupt\u001b[0m: "
     ]
    }
   ],
   "source": [
    "modes = 32 # 32\n",
    "width = 16 # 16\n",
    "\n",
    "epochs = 30\n",
    "learning_rate = 1e-4\n",
    "batch_size = 64\n",
    "\n",
    "\n",
    "model = FNO1d(modes, width) #.to('cuda')\n",
    "\n",
    "optimizer = torch.optim.AdamW(model.parameters(), lr=learning_rate, weight_decay=1e-4)\n",
    "scheduler = torch.optim.lr_scheduler.OneCycleLR(optimizer, max_lr = 1e-3, epochs=epochs, steps_per_epoch= 32)\n",
    "\n",
    "dataloader = torch.utils.data.DataLoader(torch.utils.data.TensorDataset(training_input, training_output), batch_size=batch_size, shuffle=True)\n",
    "\n",
    "\n",
    "for ep in range(epochs):\n",
    "  for input, output in dataloader:\n",
    "    #input, output = input.cuda(), output.cuda()\n",
    "    optimizer.zero_grad()\n",
    "    pred_output = model(input)\n",
    "    loss = torch.nn.functional.mse_loss(pred_output, output)\n",
    "    loss.backward()\n",
    "    optimizer.step()\n",
    "    scheduler.step()\n",
    "  print(\"\\r\",'loss:' + str(loss.detach().cpu().numpy()), end = \"\")\n",
    "  \n"
   ]
  },
  {
   "cell_type": "markdown",
   "metadata": {
    "id": "cFmbHcFFCPlM"
   },
   "source": [
    "Check output"
   ]
  },
  {
   "cell_type": "code",
   "execution_count": 140,
   "metadata": {
    "id": "7fze7k5RAgBf"
   },
   "outputs": [
    {
     "name": "stdout",
     "output_type": "stream",
     "text": [
      " loss:nan"
     ]
    },
    {
     "data": {
      "text/plain": [
       "[<matplotlib.lines.Line2D at 0x7fddda6aba10>]"
      ]
     },
     "execution_count": 140,
     "metadata": {},
     "output_type": "execute_result"
    },
    {
     "data": {
      "image/png": "[encoded data removed]",
      "text/plain": [
       "<Figure size 432x288 with 1 Axes>"
      ]
     },
     "metadata": {
      "needs_background": "light"
     },
     "output_type": "display_data"
    }
   ],
   "source": [
    "import matplotlib.pyplot as plt\n",
    "\n",
    "grid_start = 0\n",
    "grid_end = 1\n",
    "test_grid_size = 64\n",
    "field_val = 2\n",
    "\n",
    "model_input = torch.zeros(1,grid_size,2)\n",
    "model_output = torch.zeros(1,grid_size,1)\n",
    "\n",
    "testNum = 30\n",
    "model_input[:,:,:] = training_input[testNum,:,:]\n",
    "model_output[:,:,:] = training_output[testNum,:,:]\n",
    "#model_input = model_input.to('cuda')\n",
    "input_field =  model_input[0,:,0] # training_input[10,:,0]\n",
    "\n",
    "model_result = model(model_input)\n",
    "\n",
    "loss = torch.nn.functional.mse_loss(model_result, model_output)\n",
    "print(\"\\r\",'loss:' + str(loss.detach().cpu().numpy()), end = \"\")\n",
    "\n",
    "plt.figure()\n",
    "plt.plot(input_field.data)\n",
    "plt.plot(model_output[0,:,0].data)\n",
    "plt.plot(model_result.detach().cpu().flatten().numpy())\n"
   ]
  },
  {
   "cell_type": "code",
   "execution_count": null,
   "metadata": {},
   "outputs": [],
   "source": []
  },
  {
   "cell_type": "code",
   "execution_count": null,
   "metadata": {
    "id": "-Wdjp134zKFM"
   },
   "outputs": [],
   "source": []
  },
  {
   "cell_type": "code",
   "execution_count": null,
   "metadata": {},
   "outputs": [],
   "source": []
  }
 ],
 "metadata": {
  "accelerator": "GPU",
  "colab": {
   "collapsed_sections": [],
   "name": "NeuralOperators-Poisson_Sebastian.ipynb",
   "private_outputs": true,
   "provenance": [
    {
     "file_id": "1iz-ZR8dtWNh7MqrtQCvzEmtlmfDot2Vq",
     "timestamp": 1643662211045
    }
   ]
  },
  "kernelspec": {
   "display_name": "Python 3 (ipykernel)",
   "language": "python",
   "name": "python3"
  },
  "language_info": {
   "codemirror_mode": {
    "name": "ipython",
    "version": 3
   },
   "file_extension": ".py",
   "mimetype": "text/x-python",
   "name": "python",
   "nbconvert_exporter": "python",
   "pygments_lexer": "ipython3",
   "version": "3.7.11"
  }
 },
 "nbformat": 4,
 "nbformat_minor": 0
}
